{
  "nbformat": 4,
  "nbformat_minor": 0,
  "metadata": {
    "colab": {
      "provenance": [],
      "gpuType": "A100",
      "machine_shape": "hm",
      "include_colab_link": true
    },
    "kernelspec": {
      "name": "python3",
      "display_name": "Python 3"
    },
    "language_info": {
      "name": "python"
    },
    "accelerator": "GPU"
  },
  "cells": [
    {
      "cell_type": "markdown",
      "metadata": {
        "id": "view-in-github",
        "colab_type": "text"
      },
      "source": [
        "<a href=\"https://colab.research.google.com/github/AnittaNJ/Gym_Project/blob/main/Gym_Project.ipynb\" target=\"_parent\"><img src=\"https://colab.research.google.com/assets/colab-badge.svg\" alt=\"Open In Colab\"/></a>"
      ]
    },
    {
      "cell_type": "markdown",
      "source": [
        "# Applying NLP for topic modelling in a real-life context\n",
        "\n",
        "**Objective** :\n",
        "\n",
        "In this project, I have analysed PureGym's review data to uncover key drivers that provide actionable insights for enhancing customer experience."
      ],
      "metadata": {
        "id": "9j5Bse6izKKh"
      }
    },
    {
      "cell_type": "markdown",
      "source": [
        "## Importing Libraries and Datasets"
      ],
      "metadata": {
        "id": "qcaggtGYJxsf"
      }
    },
    {
      "cell_type": "code",
      "source": [
        "!pip install bertopic\n",
        "!pip install transformers\n",
        "!pip install gensim nltk\n",
        "!pip install pyLDAvis\n",
        "!pip install torch"
      ],
      "metadata": {
        "id": "uE6FMuP76R8V"
      },
      "execution_count": null,
      "outputs": []
    },
    {
      "cell_type": "code",
      "source": [
        "import pandas as pd\n",
        "import numpy as np\n",
        "import seaborn as sns\n",
        "import re\n",
        "import matplotlib.pyplot as plt\n",
        "import torch\n",
        "import pyLDAvis.gensim_models\n",
        "from wordcloud import WordCloud\n",
        "from nltk.corpus import stopwords\n",
        "from nltk.stem import WordNetLemmatizer\n",
        "from nltk.tokenize import word_tokenize\n",
        "from nltk.stem import PorterStemmer\n",
        "from sklearn.metrics.pairwise import cosine_similarity\n",
        "from sklearn.cluster import KMeans\n",
        "from transformers import pipeline\n",
        "from transformers import AutoTokenizer, AutoModelForCausalLM\n",
        "from gensim import corpora\n",
        "from gensim.models import LdaModel\n",
        "import nltk\n",
        "import string\n",
        "from bs4 import BeautifulSoup\n",
        "from nltk.probability import FreqDist\n",
        "from bertopic import BERTopic\n",
        "nltk.download('all')"
      ],
      "metadata": {
        "id": "XZd5wWcQDiX7"
      },
      "execution_count": null,
      "outputs": []
    },
    {
      "cell_type": "code",
      "source": [
        "import warnings\n",
        "warnings.filterwarnings(\"ignore\", category=DeprecationWarning)\n",
        "warnings.filterwarnings(\"ignore\", category=FutureWarning)"
      ],
      "metadata": {
        "id": "Aam1jrKFQvka"
      },
      "execution_count": null,
      "outputs": []
    },
    {
      "cell_type": "code",
      "source": [
        "# importing dataset (Google)"
      ],
      "metadata": {
        "id": "OW-0FMMsMze9"
      },
      "execution_count": null,
      "outputs": []
    },
    {
      "cell_type": "code",
      "source": [
        "# importing dataset (Trustpilot)"
      ],
      "metadata": {
        "id": "tVBLHvlOREY1"
      },
      "execution_count": null,
      "outputs": []
    },
    {
      "cell_type": "markdown",
      "source": [
        "## Initial Data Investigation"
      ],
      "metadata": {
        "id": "QXP7kXhHJ-O8"
      }
    },
    {
      "cell_type": "code",
      "source": [
        "df = pd.read_excel('filename.xlsx')\n",
        "df.head()"
      ],
      "metadata": {
        "id": "a84v9G49YWxm"
      },
      "execution_count": null,
      "outputs": []
    },
    {
      "cell_type": "code",
      "source": [
        "df.info()"
      ],
      "metadata": {
        "id": "Mo6D-ezAtAhv"
      },
      "execution_count": null,
      "outputs": []
    },
    {
      "cell_type": "code",
      "source": [
        "df.describe(include='object')"
      ],
      "metadata": {
        "id": "V1ByIE6NRk3c"
      },
      "execution_count": null,
      "outputs": []
    },
    {
      "cell_type": "code",
      "source": [
        "df.shape"
      ],
      "metadata": {
        "id": "OyN1TJTj9yQR"
      },
      "execution_count": null,
      "outputs": []
    },
    {
      "cell_type": "code",
      "source": [
        "df['Comment'].isna().sum()"
      ],
      "metadata": {
        "id": "CjwUWfgr-smq"
      },
      "execution_count": null,
      "outputs": []
    },
    {
      "cell_type": "code",
      "source": [
        "df = df.dropna(subset=['Comment'])\n",
        "df.head()"
      ],
      "metadata": {
        "id": "mLu_Qoh8K79q"
      },
      "execution_count": null,
      "outputs": []
    },
    {
      "cell_type": "code",
      "source": [
        "df.shape"
      ],
      "metadata": {
        "id": "0Dl8Zbss95yd"
      },
      "execution_count": null,
      "outputs": []
    },
    {
      "cell_type": "code",
      "source": [
        "google_uniq_count = df[\"Club's Name\"].dropna().nunique()\n",
        "google_uniq_count"
      ],
      "metadata": {
        "id": "ioKRvLWNtOU4"
      },
      "execution_count": null,
      "outputs": []
    },
    {
      "cell_type": "code",
      "source": [
        "trustpilot_uniq_count = tf['Location Name'].dropna().nunique()\n",
        "trustpilot_uniq_count"
      ],
      "metadata": {
        "id": "OM0ZDChitlSc"
      },
      "execution_count": null,
      "outputs": []
    },
    {
      "cell_type": "code",
      "source": [
        "common_locations = set(df[\"Club's Name\"].dropna()).intersection(set(tf['Location Name'].dropna()))\n",
        "common_loc_count = len(common_locations)\n",
        "common_loc_count"
      ],
      "metadata": {
        "id": "MbDUQFtwyp6I"
      },
      "execution_count": null,
      "outputs": []
    },
    {
      "cell_type": "markdown",
      "source": [
        "## Preprocessing of Data"
      ],
      "metadata": {
        "id": "jxev32txWfyT"
      }
    },
    {
      "cell_type": "code",
      "source": [
        "def preprocess_text(text):\n",
        "\n",
        "    soup = BeautifulSoup(text, \"html.parser\")\n",
        "    text = soup.get_text()\n",
        "\n",
        "    translator = str.maketrans('', '', string.punctuation)\n",
        "    text = text.translate(translator)\n",
        "\n",
        "    tokens = word_tokenize(text.lower())\n",
        "\n",
        "    stop_words = set(stopwords.words('english'))\n",
        "    tokens = [word for word in tokens if word not in stop_words]\n",
        "\n",
        "    tokens = [word for word in tokens if word.isalpha()]\n",
        "\n",
        "    return tokens"
      ],
      "metadata": {
        "id": "G83Bjx7By264"
      },
      "execution_count": null,
      "outputs": []
    },
    {
      "cell_type": "code",
      "source": [
        "google_tokens = df['Comment'].dropna().apply(preprocess_text)\n",
        "google_tokens"
      ],
      "metadata": {
        "id": "BilFm7bpF53G"
      },
      "execution_count": null,
      "outputs": []
    },
    {
      "cell_type": "code",
      "source": [
        "trust_tokens = tf['Review Content'].dropna().apply(preprocess_text)\n",
        "trust_tokens"
      ],
      "metadata": {
        "id": "YKA5rQdVE9Ji"
      },
      "execution_count": null,
      "outputs": []
    },
    {
      "cell_type": "code",
      "source": [
        "google_tokens_flat = [token for sublist in google_tokens for token in sublist]\n",
        "trust_tokens_flat = [token for sublist in trust_tokens for token in sublist]"
      ],
      "metadata": {
        "id": "sdzD1xp_JIWs"
      },
      "execution_count": null,
      "outputs": []
    },
    {
      "cell_type": "markdown",
      "source": [
        "## Frequency Distribution"
      ],
      "metadata": {
        "id": "zUaDnCrYe6o-"
      }
    },
    {
      "cell_type": "code",
      "source": [
        "google_freq_dist = FreqDist(google_tokens_flat)\n",
        "google_freq_dist"
      ],
      "metadata": {
        "id": "7sSUk1F4Y3ma"
      },
      "execution_count": null,
      "outputs": []
    },
    {
      "cell_type": "code",
      "source": [
        "trust_freq_dist = FreqDist(trust_tokens_flat)\n",
        "trust_freq_dist"
      ],
      "metadata": {
        "id": "MYEkUu2sYxSd"
      },
      "execution_count": null,
      "outputs": []
    },
    {
      "cell_type": "code",
      "source": [
        "print(\"Top 10 words in Google dataset:\")\n",
        "print(google_freq_dist.most_common(10))\n",
        "print('\\n')\n",
        "print(\"Top 10 words in Trustpilot dataset:\")\n",
        "print(trust_freq_dist.most_common(10))"
      ],
      "metadata": {
        "id": "OV0r26LxKZI9"
      },
      "execution_count": null,
      "outputs": []
    },
    {
      "cell_type": "code",
      "source": [
        "plt.figure(figsize=(12, 6))\n",
        "plt.subplot(1, 2, 1)\n",
        "\n",
        "google_words = []\n",
        "google_counts = []\n",
        "\n",
        "google_most_common = google_freq_dist.most_common(10)\n",
        "for word, count in google_most_common:\n",
        "    google_words.append(word)\n",
        "    google_counts.append(count)\n",
        "\n",
        "plt.bar(google_words, google_counts, color='skyblue')\n",
        "plt.title('Top 10 words in Google dataset')\n",
        "plt.xlabel('Words')\n",
        "plt.ylabel('Frequency')\n",
        "plt.xticks(rotation=45)\n",
        "\n",
        "\n",
        "plt.subplot(1, 2, 2)\n",
        "\n",
        "trust_words = []\n",
        "trust_counts = []\n",
        "\n",
        "trust_most_common = trust_freq_dist.most_common(10)\n",
        "for word, count in trust_most_common:\n",
        "    trust_words.append(word)\n",
        "    trust_counts.append(count)\n",
        "\n",
        "plt.bar(trust_words, trust_counts, color='pink')\n",
        "plt.title('Top 10 words in Trustpilot dataset')\n",
        "plt.xlabel('Words')\n",
        "plt.ylabel('Frequency')\n",
        "plt.xticks(rotation=45)\n",
        "\n",
        "plt.tight_layout()\n",
        "plt.show()"
      ],
      "metadata": {
        "id": "ohO2MorBQ8r0"
      },
      "execution_count": null,
      "outputs": []
    },
    {
      "cell_type": "code",
      "source": [
        "google_text = ' '.join(google_tokens_flat)\n",
        "trust_text = ' '.join(trust_tokens_flat)\n",
        "\n",
        "google_wordcloud = WordCloud(width=800, height=400, background_color='white').generate(google_text)\n",
        "trust_wordcloud = WordCloud(width=800, height=400, background_color='white').generate(trust_text)"
      ],
      "metadata": {
        "id": "9j3Jf1BwSgrl"
      },
      "execution_count": null,
      "outputs": []
    },
    {
      "cell_type": "code",
      "source": [
        "plt.figure(figsize=(14, 6))\n",
        "\n",
        "plt.subplot(1, 2, 1)\n",
        "plt.imshow(google_wordcloud, interpolation='bilinear')\n",
        "plt.title('Word Cloud - Google Dataset')\n",
        "plt.axis('off')\n",
        "\n",
        "plt.subplot(1, 2, 2)\n",
        "plt.imshow(trust_wordcloud, interpolation='bilinear')\n",
        "plt.title('Word Cloud - Trustpilot Dataset')\n",
        "plt.axis('off')\n",
        "\n",
        "plt.tight_layout()\n",
        "plt.show()"
      ],
      "metadata": {
        "id": "tCe7WkKfYHJB"
      },
      "execution_count": null,
      "outputs": []
    },
    {
      "cell_type": "markdown",
      "source": [
        "## Topic Modelling"
      ],
      "metadata": {
        "id": "fzpJhfZekSWX"
      }
    },
    {
      "cell_type": "code",
      "source": [
        "df_neg = df[df['Overall Score']<3]\n",
        "tf_neg = tf[tf['Review Stars']<3]"
      ],
      "metadata": {
        "id": "xG0KyLaeYhQZ"
      },
      "execution_count": null,
      "outputs": []
    },
    {
      "cell_type": "code",
      "source": [
        "google_tokens = df_neg['Comment'].dropna().apply(preprocess_text)\n",
        "google_tokens"
      ],
      "metadata": {
        "id": "Q4qc7w6-ZjSi"
      },
      "execution_count": null,
      "outputs": []
    },
    {
      "cell_type": "code",
      "source": [
        "trust_tokens = tf_neg['Review Content'].dropna().apply(preprocess_text)\n",
        "trust_tokens"
      ],
      "metadata": {
        "id": "YlJ0cQVFZ0XP"
      },
      "execution_count": null,
      "outputs": []
    },
    {
      "cell_type": "code",
      "source": [
        "# Flatten the list of tokens\n",
        "google_tokens_flat = [token for sublist in google_tokens for token in sublist]\n",
        "trust_tokens_flat = [token for sublist in trust_tokens for token in sublist]\n",
        "\n",
        "google_freq_dist = FreqDist(google_tokens_flat)\n",
        "\n",
        "trust_freq_dist = FreqDist(trust_tokens_flat)"
      ],
      "metadata": {
        "id": "e_De-mFMaKTC"
      },
      "execution_count": null,
      "outputs": []
    },
    {
      "cell_type": "code",
      "source": [
        "print(\"Most common words in Google dataset:\")\n",
        "print(google_freq_dist.most_common(10))\n",
        "print('\\n')\n",
        "print(\"Most common words in Trustpilot dataset:\")\n",
        "print(trust_freq_dist.most_common(10))"
      ],
      "metadata": {
        "id": "MEjkzSaIaL5h"
      },
      "execution_count": null,
      "outputs": []
    },
    {
      "cell_type": "code",
      "source": [
        "plt.figure(figsize=(12, 6))\n",
        "\n",
        "plt.subplot(1, 2, 1)\n",
        "\n",
        "google_words = []\n",
        "google_counts = []\n",
        "\n",
        "google_most_common = google_freq_dist.most_common(10)\n",
        "for word, count in google_most_common:\n",
        "    google_words.append(word)\n",
        "    google_counts.append(count)\n",
        "\n",
        "plt.bar(google_words, google_counts, color='skyblue')\n",
        "plt.title('Most Common Words in Google Dataset')\n",
        "plt.xlabel('Words')\n",
        "plt.ylabel('Frequency')\n",
        "plt.xticks(rotation=45)\n",
        "\n",
        "plt.subplot(1, 2, 2)\n",
        "\n",
        "trust_words = []\n",
        "trust_counts = []\n",
        "\n",
        "trust_most_common = trust_freq_dist.most_common(10)\n",
        "for word, count in trust_most_common:\n",
        "    trust_words.append(word)\n",
        "    trust_counts.append(count)\n",
        "\n",
        "plt.bar(trust_words, trust_counts, color='pink')\n",
        "plt.title('Most Common Words in Trustpilot Dataset')\n",
        "plt.xlabel('Words')\n",
        "plt.ylabel('Frequency')\n",
        "plt.xticks(rotation=45)\n",
        "\n",
        "plt.tight_layout()\n",
        "plt.show()"
      ],
      "metadata": {
        "id": "KE-sXhrlaYrF"
      },
      "execution_count": null,
      "outputs": []
    },
    {
      "cell_type": "markdown",
      "source": [
        "Generating wordcloud for negative reviews"
      ],
      "metadata": {
        "id": "rgIEjrTR4zq3"
      }
    },
    {
      "cell_type": "code",
      "source": [
        "google_text = ' '.join(google_tokens_flat)\n",
        "trust_text = ' '.join(trust_tokens_flat)\n",
        "\n",
        "google_wordcloud = WordCloud(width=800, height=400, background_color='white').generate(google_text)\n",
        "trust_wordcloud = WordCloud(width=800, height=400, background_color='white').generate(trust_text)"
      ],
      "metadata": {
        "id": "SFj1tEeOa86S"
      },
      "execution_count": null,
      "outputs": []
    },
    {
      "cell_type": "code",
      "source": [
        "plt.figure(figsize=(14, 6))\n",
        "\n",
        "plt.subplot(1, 2, 1)\n",
        "plt.imshow(google_wordcloud, interpolation='bilinear')\n",
        "plt.title('Word Cloud - Google Dataset')\n",
        "plt.axis('off')\n",
        "\n",
        "plt.subplot(1, 2, 2)\n",
        "plt.imshow(trust_wordcloud, interpolation='bilinear')\n",
        "plt.title('Word Cloud - Trustpilot Dataset')\n",
        "plt.axis('off')\n",
        "\n",
        "plt.tight_layout()\n",
        "plt.show()"
      ],
      "metadata": {
        "id": "hMuTysr-bBbk"
      },
      "execution_count": null,
      "outputs": []
    },
    {
      "cell_type": "code",
      "source": [
        "common_locations = set(df_neg[\"Club's Name\"].dropna()).intersection(set(tf_neg['Location Name'].dropna()))\n",
        "df_common = df_neg[df_neg[\"Club's Name\"].isin(common_locations)]\n",
        "tf_common = tf_neg[tf_neg['Location Name'].isin(common_locations)]\n",
        "common_reviews = pd.concat([df_common, tf_common])\n",
        "common_reviews"
      ],
      "metadata": {
        "id": "ccfiLME7yqd-"
      },
      "execution_count": null,
      "outputs": []
    },
    {
      "cell_type": "code",
      "source": [
        "common_reviews['Combined Reviews'] = common_reviews['Comment'].fillna('') + ' ' + common_reviews['Review Content'].fillna('')\n",
        "common_reviews"
      ],
      "metadata": {
        "id": "8Ai5QYku4MtQ"
      },
      "execution_count": null,
      "outputs": []
    },
    {
      "cell_type": "code",
      "source": [
        "Processed_Review = common_reviews['Combined Reviews'].apply(preprocess_text)\n",
        "Processed_Review"
      ],
      "metadata": {
        "id": "BOL_5nhv2guT"
      },
      "execution_count": null,
      "outputs": []
    },
    {
      "cell_type": "markdown",
      "source": [
        "### BERTopic"
      ],
      "metadata": {
        "id": "_LvnCOJ9vLQH"
      }
    },
    {
      "cell_type": "code",
      "source": [
        "text = [' '.join(word) for word in Processed_Review]\n",
        "text\n",
        "\n",
        "topic_model = BERTopic()\n",
        "topics, _ = topic_model.fit_transform(text)\n",
        "\n",
        "print(\"Topics found:\")\n",
        "topic_info = topic_model.get_topic_info()\n",
        "topic_info.head()"
      ],
      "metadata": {
        "id": "JXBVgD226Ak8"
      },
      "execution_count": null,
      "outputs": []
    },
    {
      "cell_type": "code",
      "source": [
        "for i, row in topic_model.get_topic_info().iterrows():\n",
        "    print(f\"Topic {i}: {row['Name']} (Frequency: {row['Count']})\")"
      ],
      "metadata": {
        "id": "IfdqZtMic92B"
      },
      "execution_count": null,
      "outputs": []
    },
    {
      "cell_type": "code",
      "source": [
        "# Get the top 2 topics\n",
        "top_2 = topic_info['Topic'].iloc[1:3]\n",
        "\n",
        "for topic in top_2:\n",
        "    print(f\"\\nTop words for Topic {topic}:\")\n",
        "    print(topic_model.get_topic(topic))"
      ],
      "metadata": {
        "id": "5YPrGvkFHsFU"
      },
      "execution_count": null,
      "outputs": []
    },
    {
      "cell_type": "code",
      "source": [
        "topic_model.visualize_topics()"
      ],
      "metadata": {
        "id": "b-CJkk57L9UE"
      },
      "execution_count": null,
      "outputs": []
    },
    {
      "cell_type": "code",
      "source": [
        "topic_model.visualize_barchart(top_n_topics=5)"
      ],
      "metadata": {
        "id": "noOtoq9aMmhX"
      },
      "execution_count": null,
      "outputs": []
    },
    {
      "cell_type": "code",
      "source": [
        "topic_model.visualize_heatmap(top_n_topics=10, n_clusters=5, width=1000, height=1000)"
      ],
      "metadata": {
        "id": "5bZMjy9hrhq5"
      },
      "execution_count": null,
      "outputs": []
    },
    {
      "cell_type": "markdown",
      "source": [
        "### Clustering"
      ],
      "metadata": {
        "id": "LvanGHPSlUKI"
      }
    },
    {
      "cell_type": "code",
      "source": [
        "topic_embeddings = topic_model.topic_embeddings_\n",
        "\n",
        "n_clusters = 10\n",
        "kmeans = KMeans(n_clusters=n_clusters, random_state=42)\n",
        "clusters = kmeans.fit_predict(topic_embeddings)\n",
        "\n",
        "topic_info['Cluster'] = clusters"
      ],
      "metadata": {
        "id": "pR1u2g_MquRY"
      },
      "execution_count": null,
      "outputs": []
    },
    {
      "cell_type": "code",
      "source": [
        "cluster_summaries = {}\n",
        "\n",
        "for cluster_id in range(n_clusters):\n",
        "    cluster_topics = topic_info[topic_info['Cluster'] == cluster_id]['Topic']\n",
        "\n",
        "    top_words = []\n",
        "    for topic in cluster_topics:\n",
        "        if topic != -1:  # Skip outliers\n",
        "            top_words.extend([word for word, _ in topic_model.get_topic(topic)])\n",
        "\n",
        "    word_freq = nltk.FreqDist(top_words)\n",
        "    cluster_summaries[cluster_id] = word_freq.most_common(10)\n"
      ],
      "metadata": {
        "id": "tgdynXw_q_ba"
      },
      "execution_count": null,
      "outputs": []
    },
    {
      "cell_type": "code",
      "source": [
        "for cluster_id, top_words in cluster_summaries.items():\n",
        "    print(f\"\\nCluster {cluster_id}:\")\n",
        "    print(f\"Top Words: {[word for word, _ in top_words]}\")\n",
        "    print(f\"General Theme: {', '.join([word for word, _ in top_words[:3]])}\")\n"
      ],
      "metadata": {
        "id": "Xj5tN7ntrCc1"
      },
      "execution_count": null,
      "outputs": []
    },
    {
      "cell_type": "markdown",
      "source": [
        "List out the top 20 locations with the highest number of negative reviews."
      ],
      "metadata": {
        "id": "AU_GHW5cmAyF"
      }
    },
    {
      "cell_type": "code",
      "source": [
        "google_neg_loc = df_neg[\"Club's Name\"].value_counts().head(20)\n",
        "google_neg_loc"
      ],
      "metadata": {
        "id": "MlxPmMjdWyjG"
      },
      "execution_count": null,
      "outputs": []
    },
    {
      "cell_type": "code",
      "source": [
        "trust_neg_loc = tf_neg['Location Name'].value_counts().head(20)\n",
        "trust_neg_loc"
      ],
      "metadata": {
        "id": "AEQEijw19lwi"
      },
      "execution_count": null,
      "outputs": []
    },
    {
      "cell_type": "code",
      "source": [
        "common_locations = set(google_neg_loc.index).intersection(set(trust_neg_loc.index))\n",
        "common_locations"
      ],
      "metadata": {
        "id": "56OyYfpW-CSX"
      },
      "execution_count": null,
      "outputs": []
    },
    {
      "cell_type": "code",
      "source": [
        "com_locations = set(df_neg[\"Club's Name\"].dropna()).intersection(set(tf_neg['Location Name'].dropna()))\n",
        "df_com = df_neg[df_neg[\"Club's Name\"].isin(com_locations)]\n",
        "tf_com = tf_neg[tf_neg['Location Name'].isin(com_locations)]\n",
        "merged_df = pd.concat([df_com, tf_com])\n",
        "merged_df.head()"
      ],
      "metadata": {
        "id": "9z0cxDPOz7Lz"
      },
      "execution_count": null,
      "outputs": []
    },
    {
      "cell_type": "code",
      "source": [
        "merged_df['Location'] = merged_df[\"Club's Name\"].fillna('') + merged_df['Location Name'].fillna('')\n",
        "\n",
        "merged_df[['Location','Review Content','Comment']]"
      ],
      "metadata": {
        "id": "x0ZeHzeB72Ds"
      },
      "execution_count": null,
      "outputs": []
    },
    {
      "cell_type": "code",
      "source": [
        "loc_stats = merged_df.groupby(\"Location\").agg(\n",
        "    Trust_Reviews=('Review Content', 'count'),\n",
        "    Google_Reviews=('Comment', 'count')\n",
        ")\n",
        "\n",
        "loc_stats['Total_Reviews'] = loc_stats['Trust_Reviews'] + loc_stats['Google_Reviews']\n",
        "\n",
        "loc_stats = loc_stats.sort_values('Total_Reviews', ascending=False)\n",
        "\n",
        "loc_stats = loc_stats.reset_index()\n",
        "loc_stats"
      ],
      "metadata": {
        "id": "2oe33YiDKFcv"
      },
      "execution_count": null,
      "outputs": []
    },
    {
      "cell_type": "code",
      "source": [
        "top_30_loc = loc_stats[\"Location\"].head(30).tolist()\n",
        "\n",
        "top_30_reviews = merged_df[merged_df[\"Location\"].isin(top_30_loc)]\n",
        "\n",
        "top_30_reviews['Combined Reviews'] = top_30_reviews['Comment'].fillna('') + ' ' + top_30_reviews['Review Content'].fillna('')\n",
        "\n",
        "top_30_tokens = top_30_reviews['Combined Reviews'].dropna().apply(preprocess_text)\n",
        "top_30_tokens"
      ],
      "metadata": {
        "id": "uP-s5EocM_fs"
      },
      "execution_count": null,
      "outputs": []
    },
    {
      "cell_type": "code",
      "source": [
        "top_30_tokens_flat = [token for sublist in top_30_tokens for token in sublist]\n",
        "\n",
        "top_30_freq_dist = FreqDist(top_30_tokens_flat)\n",
        "\n",
        "print(\"Most common words in top 30 locations:\")\n",
        "top_30_freq_dist.most_common(10)"
      ],
      "metadata": {
        "id": "Q7ay7xFuNMGO"
      },
      "execution_count": null,
      "outputs": []
    },
    {
      "cell_type": "code",
      "source": [
        "plt.figure(figsize=(12, 6))\n",
        "top_30_words = [word for word, _ in top_30_freq_dist.most_common(10)]\n",
        "top_30_counts = [count for _, count in top_30_freq_dist.most_common(10)]\n",
        "plt.bar(top_30_words, top_30_counts, color='skyblue')\n",
        "plt.title('Most Common Words in Top 30 Locations')\n",
        "plt.xlabel('Words')\n",
        "plt.ylabel('Frequency')\n",
        "plt.xticks(rotation=45)\n",
        "plt.show()"
      ],
      "metadata": {
        "id": "D12opxsiQSLJ"
      },
      "execution_count": null,
      "outputs": []
    },
    {
      "cell_type": "code",
      "source": [
        "top_30_text = ' '.join(top_30_tokens_flat)\n",
        "top_30_wordcloud = WordCloud(width=800, height=400, background_color='white').generate(top_30_text)\n",
        "plt.figure(figsize=(8, 8))\n",
        "plt.imshow(top_30_wordcloud, interpolation='bilinear')\n",
        "plt.title('Word Cloud - Top 30 Locations')\n",
        "plt.axis('off')\n",
        "plt.show()"
      ],
      "metadata": {
        "id": "q7qtP-enQcLs"
      },
      "execution_count": null,
      "outputs": []
    },
    {
      "cell_type": "code",
      "source": [
        "Processed_Review = top_30_reviews['Combined Reviews'].apply(preprocess_text)\n",
        "\n",
        "text = [' '.join(word) for word in Processed_Review]\n",
        "\n",
        "topic_model = BERTopic()\n",
        "topics, _ = topic_model.fit_transform(text)\n",
        "\n",
        "print(\"Topics found:\")\n",
        "topic_info = topic_model.get_topic_info()\n",
        "topic_info.head()"
      ],
      "metadata": {
        "id": "NiI-BdzARN__"
      },
      "execution_count": null,
      "outputs": []
    },
    {
      "cell_type": "code",
      "source": [
        "for i, row in topic_model.get_topic_info().iterrows():\n",
        "    print(f\"Topic {i}: {row['Name']} (Frequency: {row['Count']})\")"
      ],
      "metadata": {
        "id": "dzsnzv6c7X77"
      },
      "execution_count": null,
      "outputs": []
    },
    {
      "cell_type": "code",
      "source": [
        "top_2 = topic_info['Topic'].iloc[1:3]\n",
        "\n",
        "for topic in top_2:\n",
        "    print(f\"\\nTop words for Topic {topic}:\")\n",
        "    print(topic_model.get_topic(topic))"
      ],
      "metadata": {
        "id": "Fl2B0HST7gF7"
      },
      "execution_count": null,
      "outputs": []
    },
    {
      "cell_type": "code",
      "source": [
        "topic_model.visualize_barchart(top_n_topics=5)"
      ],
      "metadata": {
        "id": "lw-FYc3r8OVr"
      },
      "execution_count": null,
      "outputs": []
    },
    {
      "cell_type": "code",
      "source": [
        "topic_model.visualize_heatmap(top_n_topics=10, n_clusters=5, width=1000, height=1000)"
      ],
      "metadata": {
        "id": "wNoW__PVFj7l"
      },
      "execution_count": null,
      "outputs": []
    },
    {
      "cell_type": "markdown",
      "source": [
        "## Sentiment Analysis"
      ],
      "metadata": {
        "id": "6zmsC4BPeCfY"
      }
    },
    {
      "cell_type": "code",
      "source": [
        "# Set the device to GPU if available\n",
        "device = torch.device(\"cuda\" if torch.cuda.is_available() else \"cpu\")"
      ],
      "metadata": {
        "id": "3x875E1ZcfFK"
      },
      "execution_count": null,
      "outputs": []
    },
    {
      "cell_type": "code",
      "source": [
        "emotion_classifier = pipeline(\"text-classification\",\n",
        "                              model=\"bhadresh-savani/bert-base-uncased-emotion\",\n",
        "                              tokenizer=\"bhadresh-savani/bert-base-uncased-emotion\",\n",
        "                              device=0)"
      ],
      "metadata": {
        "id": "5oVBaNllhlM-"
      },
      "execution_count": null,
      "outputs": []
    },
    {
      "cell_type": "code",
      "source": [
        "df['Top Emotion'] = df['Comment'].dropna().apply(lambda text: emotion_classifier(text[:510])[0]['label'])\n",
        "df"
      ],
      "metadata": {
        "id": "oDoGPRx9_UZm"
      },
      "execution_count": null,
      "outputs": []
    },
    {
      "cell_type": "code",
      "source": [
        "tf['Top Emotion'] = tf['Review Content'].dropna().apply(lambda text: emotion_classifier(text[:510])[0]['label'])\n",
        "tf"
      ],
      "metadata": {
        "id": "n6XgIxCYHsKp"
      },
      "execution_count": null,
      "outputs": []
    },
    {
      "cell_type": "code",
      "source": [
        "df_neg = df[df['Overall Score'] < 3]\n",
        "tf_neg = tf[tf['Review Stars'] < 3]\n",
        "\n",
        "all_neg_reviews = pd.concat([df_neg, tf_neg])\n",
        "\n",
        "emotion_counts = all_neg_reviews['Top Emotion'].value_counts()\n",
        "\n",
        "plt.figure(figsize=(10, 6))\n",
        "plt.bar(emotion_counts.index, emotion_counts.values)\n",
        "plt.xlabel('Emotion')\n",
        "plt.ylabel('Count')\n",
        "plt.title('Distribution of Top Emotions in Negative Reviews')\n",
        "plt.xticks(rotation=45)\n",
        "plt.tight_layout()\n",
        "plt.show()"
      ],
      "metadata": {
        "id": "YCPsFzXfIpSG"
      },
      "execution_count": null,
      "outputs": []
    },
    {
      "cell_type": "code",
      "source": [
        "all_neg_reviews['Combined Reviews'] = all_neg_reviews['Comment'].fillna('') + ' ' + all_neg_reviews['Review Content'].fillna('')\n",
        "all_neg_reviews"
      ],
      "metadata": {
        "id": "hlOrR0y_toUt"
      },
      "execution_count": null,
      "outputs": []
    },
    {
      "cell_type": "code",
      "source": [
        "all_angry_reviews = all_neg_reviews[all_neg_reviews['Top Emotion'] == 'anger']['Combined Reviews']\n",
        "all_angry_reviews = all_angry_reviews.reset_index()\n",
        "all_angry_reviews['Combined Reviews']"
      ],
      "metadata": {
        "id": "ds_CZOJ0s6pl"
      },
      "execution_count": null,
      "outputs": []
    },
    {
      "cell_type": "markdown",
      "source": [
        "### BERTopic"
      ],
      "metadata": {
        "id": "VGRbHLZ4P38K"
      }
    },
    {
      "cell_type": "code",
      "source": [
        "processed_angry_reviews = all_angry_reviews['Combined Reviews'].apply(preprocess_text)\n",
        "\n",
        "angry_text = [' '.join(word) for word in processed_angry_reviews]\n",
        "\n",
        "model_angry = BERTopic()\n",
        "topics_angry, _ = model_angry.fit_transform(angry_text)\n",
        "\n",
        "info_angry = model_angry.get_topic_info()\n",
        "info_angry"
      ],
      "metadata": {
        "id": "1kTSNlVKu5bc"
      },
      "execution_count": null,
      "outputs": []
    },
    {
      "cell_type": "code",
      "source": [
        "model_angry.visualize_topics()"
      ],
      "metadata": {
        "id": "QPtl6GWsv8K8"
      },
      "execution_count": null,
      "outputs": []
    },
    {
      "cell_type": "markdown",
      "source": [
        "## LLM"
      ],
      "metadata": {
        "id": "KMGzu2cwyZfX"
      }
    },
    {
      "cell_type": "code",
      "source": [
        "df_neg = df[df['Overall Score']<3]\n",
        "\n",
        "tf_neg = tf[tf['Review Stars']<3]"
      ],
      "metadata": {
        "id": "eYkPPO7my3ky"
      },
      "execution_count": null,
      "outputs": []
    },
    {
      "cell_type": "code",
      "source": [
        "# creating a subset of the bad reviews, since the execution time is too high.\n",
        "bad_rev = pd.concat([df_neg,tf_neg]).sample(n=2000, random_state=42)\n",
        "\n",
        "bad_rev['Combined Reviews'] = bad_rev['Comment'].fillna('') + ' ' + bad_rev['Review Content'].fillna('')\n",
        "bad_rev"
      ],
      "metadata": {
        "id": "RtZhSS0bt9-C"
      },
      "execution_count": null,
      "outputs": []
    },
    {
      "cell_type": "markdown",
      "source": [
        "### Generating topics"
      ],
      "metadata": {
        "id": "LCDevuExVgsl"
      }
    },
    {
      "cell_type": "code",
      "source": [
        "text_generator = pipeline(\n",
        "    \"text-generation\",\n",
        "    model=\"tiiuae/falcon-7b-instruct\",\n",
        "    tokenizer=\"tiiuae/falcon-7b-instruct\",\n",
        "    max_new_tokens=1000,\n",
        "    device=0\n",
        ")\n",
        "\n",
        "prompt = \"In the following customer review, pick out the main 3 topics. Return them in a numbered list format, with each one on a new line.\"\n",
        "\n",
        "bad_rev['prompted_review'] = bad_rev['Combined Reviews'].apply(lambda x: f\"{prompt} {x}\")\n",
        "\n",
        "bad_rev['generated_topics'] = bad_rev['prompted_review'].apply(lambda x: text_generator(x)[0]['generated_text'])"
      ],
      "metadata": {
        "id": "R9TD9M71sdvx"
      },
      "execution_count": null,
      "outputs": []
    },
    {
      "cell_type": "code",
      "source": [
        "def extract_topics(text):\n",
        "  lines = text.split('\\n')\n",
        "  topics = [line for line in lines if line.strip() and line.strip()[0].isdigit()]\n",
        "  return '\\n'.join(topics)\n",
        "\n",
        "bad_rev['extracted_topics'] = bad_rev['generated_topics'].dropna().apply(extract_topics)\n"
      ],
      "metadata": {
        "id": "CrWiatxQFtao"
      },
      "execution_count": null,
      "outputs": []
    },
    {
      "cell_type": "code",
      "source": [
        "all_topics = []\n",
        "for topics_str in bad_rev['extracted_topics']:\n",
        "  for line in topics_str.split('\\n'):\n",
        "    all_topics.append(line.strip())\n",
        "\n",
        "all_topics"
      ],
      "metadata": {
        "id": "d6SSwUINmqDi"
      },
      "execution_count": null,
      "outputs": []
    },
    {
      "cell_type": "markdown",
      "source": [
        "### BERTopic"
      ],
      "metadata": {
        "id": "16RiGIxYk2kk"
      }
    },
    {
      "cell_type": "code",
      "source": [
        "model_all_topics = BERTopic()\n",
        "topics_all_topics, _ = model_all_topics.fit_transform(all_topics)\n",
        "\n",
        "info_all_topics = model_all_topics.get_topic_info()\n",
        "info_all_topics"
      ],
      "metadata": {
        "id": "JHrxFLPpqfD3"
      },
      "execution_count": null,
      "outputs": []
    },
    {
      "cell_type": "markdown",
      "source": [
        "### Generating insights"
      ],
      "metadata": {
        "id": "Wc3lwbA-VmLE"
      }
    },
    {
      "cell_type": "code",
      "source": [
        "prefix = \"For the following text topics obtained from negative customer reviews, can you give some actionable insights that would help this gym company? \"\n",
        "\n",
        "insights = []\n",
        "for topic in all_topics:\n",
        "  prompt = prefix + topic\n",
        "  generated_insight = text_generator(prompt)[0]['generated_text']\n",
        "  insights.append(generated_insight)"
      ],
      "metadata": {
        "id": "KdbuCn0erUn5"
      },
      "execution_count": null,
      "outputs": []
    },
    {
      "cell_type": "code",
      "source": [
        "for i, insight in enumerate(insights):\n",
        "  print(f\"Insight for topic {all_topics[i]}: {insight}\\n\")"
      ],
      "metadata": {
        "id": "-6YNA5XCb8w9"
      },
      "execution_count": null,
      "outputs": []
    },
    {
      "cell_type": "markdown",
      "source": [
        "## LDA Model"
      ],
      "metadata": {
        "id": "h8486JudAb35"
      }
    },
    {
      "cell_type": "code",
      "source": [
        "all_negative_reviews = bad_rev['Combined Reviews'].dropna().apply(preprocess_text)\n",
        "processed_reviews = all_negative_reviews.tolist()"
      ],
      "metadata": {
        "id": "11MjDh5CAgWf"
      },
      "execution_count": null,
      "outputs": []
    },
    {
      "cell_type": "code",
      "source": [
        "dictionary = corpora.Dictionary(processed_reviews)\n",
        "corpus = [dictionary.doc2bow(review) for review in processed_reviews]"
      ],
      "metadata": {
        "id": "xVDc_kOSGkF_"
      },
      "execution_count": null,
      "outputs": []
    },
    {
      "cell_type": "code",
      "source": [
        "num_topics = 10  # Specify the number of topics = 10\n",
        "lda_model = LdaModel(corpus, num_topics=num_topics, id2word=dictionary, passes=15)"
      ],
      "metadata": {
        "id": "lmBcAtDxGzJM"
      },
      "execution_count": null,
      "outputs": []
    },
    {
      "cell_type": "code",
      "source": [
        "for idx, topic in lda_model.print_topics(-1):\n",
        "    print(f\"Topic: {idx}\\nWords: {topic}\\n\")"
      ],
      "metadata": {
        "id": "Dnftvn5fG4VV"
      },
      "execution_count": null,
      "outputs": []
    },
    {
      "cell_type": "code",
      "source": [
        "pyLDAvis.enable_notebook()\n",
        "vis = pyLDAvis.gensim_models.prepare(lda_model, corpus, dictionary)\n",
        "vis"
      ],
      "metadata": {
        "id": "JQSI3Vos0Cgr"
      },
      "execution_count": null,
      "outputs": []
    }
  ]
}